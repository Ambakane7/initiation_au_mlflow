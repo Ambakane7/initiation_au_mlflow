{
  "cells": [
    {
      "cell_type": "markdown",
      "metadata": {
        "id": "dyIt4o44vh7I"
      },
      "source": [
        "<h1><font color=blue><center>UTILISATION DE MLFLOW</center></font></h1>"
      ]
    },
    {
      "cell_type": "markdown",
      "metadata": {
        "id": "AqU4JGO7vas_"
      },
      "source": [
        "MLflow est une plateforme open source permettant de gérer le cycle de vie de l'apprentissage automatique de bout en bout. Il répond à quatre fonctions principales :\n",
        "\n",
        "Expériences de suivi pour enregistrer et comparer les paramètres et les résultats ( MLflow Tracking ).\n",
        "\n",
        "Conditionner le code ML sous une forme réutilisable et reproductible afin de le partager avec d'autres data scientists ou de le transférer en production ( MLflow Projects ).\n",
        "\n",
        "Gérer et déployer des modèles à partir d'une variété de bibliothèques ML vers une variété de plates-formes de service de modèles et d'inférence ( MLflow Models ).\n",
        "\n",
        "Fournir un magasin de modèles central pour gérer de manière collaborative le cycle de vie complet d'un modèle MLflow, y compris la gestion des versions du modèle, les transitions d'étape et les annotations ( MLflow Model Registry )."
      ]
    },
    {
      "cell_type": "markdown",
      "metadata": {
        "id": "QjNZx-Yq91qW"
      },
      "source": [
        "Il faut au préalable avoir un compte ngrok et copié le token que l'on va donné"
      ]
    },
    {
      "cell_type": "markdown",
      "metadata": {
        "id": "vVRN7dAP_tWp"
      },
      "source": [
        "## Installer mlflow"
      ]
    },
    {
      "cell_type": "code",
      "execution_count": null,
      "metadata": {
        "id": "LBwuA7fy71OY"
      },
      "outputs": [],
      "source": [
        "! pip install mlflow"
      ]
    },
    {
      "cell_type": "code",
      "execution_count": null,
      "metadata": {
        "id": "G7UMVV04_yIC"
      },
      "outputs": [],
      "source": [
        "from sklearn import datasets\n",
        "from sklearn.model_selection import train_test_split"
      ]
    },
    {
      "cell_type": "code",
      "execution_count": null,
      "metadata": {
        "id": "OYd0q8pHAM8j"
      },
      "outputs": [],
      "source": [
        "dataset = datasets.load_iris()\n",
        "dataset"
      ]
    },
    {
      "cell_type": "markdown",
      "metadata": {
        "id": "W7kV4rn5gAmh"
      },
      "source": [
        "# Création de nos données d'entrainement et de test"
      ]
    },
    {
      "cell_type": "code",
      "execution_count": null,
      "metadata": {
        "id": "DDyLmBp2d6xJ"
      },
      "outputs": [],
      "source": [
        "seed = 123\n",
        "x_train, x_test, y_train, y_test = train_test_split(dataset.data, dataset.target, test_size= 0.2, random_state=seed)\n"
      ]
    },
    {
      "cell_type": "code",
      "execution_count": null,
      "metadata": {
        "id": "uh2eY9IzfxGY"
      },
      "outputs": [],
      "source": [
        "print(\"les dimensions de mon x_train : \",x_train.shape)\n",
        "print(\"les dimensions de mon x_test : \",x_test.shape)\n",
        "print(\"les dimensions de mon y_train : \",y_train.shape)\n",
        "print(\"les dimensions de mon y_test : \",y_test.shape)"
      ]
    },
    {
      "cell_type": "markdown",
      "metadata": {
        "id": "RZC9Y5CmgzlJ"
      },
      "source": [
        "# Creation du Model"
      ]
    },
    {
      "cell_type": "markdown",
      "metadata": {
        "id": "6E_KdV9sy7nn"
      },
      "source": [
        "Dans notre cas on va utiliser du mlflow tracking, vue que l'on va enregistré des expériences en vue d'une comparaison ultérieur"
      ]
    },
    {
      "cell_type": "code",
      "execution_count": null,
      "metadata": {
        "id": "U0x_hWibf70u"
      },
      "outputs": [],
      "source": [
        "from sklearn.linear_model import LogisticRegression\n",
        "import mlflow\n",
        "mlflow.set_experiment('Reg_logisic_model')\n",
        "mlflow.sklearn.autolog()\n",
        "#autolog que l'on viens d'appeler nous permet de faire appel à tous les models de sklearn\n"
      ]
    },
    {
      "cell_type": "markdown",
      "metadata": {
        "id": "z8PG_Grd0fzU"
      },
      "source": [
        "Premier run"
      ]
    },
    {
      "cell_type": "code",
      "execution_count": null,
      "metadata": {
        "id": "pXMas_F00jtC"
      },
      "outputs": [],
      "source": [
        "with mlflow.start_run(run_name='reg_logistic_para_defaut'):\n",
        "  clf = LogisticRegression()\n",
        "  clf.fit(x_train, y_train)"
      ]
    },
    {
      "cell_type": "markdown",
      "metadata": {
        "id": "8HyMiGpj0qqm"
      },
      "source": [
        "Second run"
      ]
    },
    {
      "cell_type": "code",
      "execution_count": null,
      "metadata": {
        "id": "Z_2VRV8KhgSk"
      },
      "outputs": [],
      "source": [
        "with mlflow.start_run(run_name='reg_logistic_para_max_iter=200'):\n",
        "  clf2 = LogisticRegression(max_iter=200)\n",
        "  clf2.fit(x_train, y_train)"
      ]
    },
    {
      "cell_type": "markdown",
      "metadata": {
        "id": "ok3HAxcq2t6E"
      },
      "source": [
        "On va installé le Pyngrok"
      ]
    },
    {
      "cell_type": "code",
      "execution_count": null,
      "metadata": {
        "id": "0LMhDYDK03Pk"
      },
      "outputs": [],
      "source": [
        "! pip install pyngrok"
      ]
    },
    {
      "cell_type": "code",
      "execution_count": null,
      "metadata": {
        "id": "6huRwYR620He"
      },
      "outputs": [],
      "source": [
        "from pyngrok import ngrok"
      ]
    },
    {
      "cell_type": "code",
      "execution_count": null,
      "metadata": {
        "id": "10RuR_UP3Qx1"
      },
      "outputs": [],
      "source": [
        "ngrok.kill()\n",
        "# il faut inséré votre token que vous avez préalablement eu après création de votre compte\n",
        "NGROK_AUT_TOKEN = \"2M8hL0PDyX954ZIC3YrNyIX4Y8E_34XBu98He3obmEJQyhdoA\"\n",
        "ngrok.set_auth_token(NGROK_AUT_TOKEN)\n",
        "# Ouvrir un tunnel HTTPs avec le port d'accès 5000 à travers votre connection localhost\n",
        "ngrok_tunnel = ngrok.connect(addr=\"5000\", proto=\"http\", bind_tls=True)\n",
        "print (\"MLFLOW tracking UI :\", ngrok_tunnel.public_url)\n"
      ]
    },
    {
      "cell_type": "code",
      "execution_count": null,
      "metadata": {
        "colab": {
          "background_save": true,
          "base_uri": "https://localhost:8080/"
        },
        "id": "FgNXxA4O5fku",
        "outputId": "7b5b0d10-7b37-444f-d1da-6137b19c1343"
      },
      "outputs": [
        {
          "name": "stdout",
          "output_type": "stream",
          "text": [
            "[2023-10-28 02:11:26 +0000] [40152] [INFO] Starting gunicorn 21.2.0\n",
            "[2023-10-28 02:11:26 +0000] [40152] [INFO] Listening at: http://127.0.0.1:5000 (40152)\n",
            "[2023-10-28 02:11:26 +0000] [40152] [INFO] Using worker: sync\n",
            "[2023-10-28 02:11:26 +0000] [40157] [INFO] Booting worker with pid: 40157\n",
            "[2023-10-28 02:11:26 +0000] [40158] [INFO] Booting worker with pid: 40158\n",
            "[2023-10-28 02:11:26 +0000] [40160] [INFO] Booting worker with pid: 40160\n",
            "[2023-10-28 02:11:26 +0000] [40159] [INFO] Booting worker with pid: 40159\n"
          ]
        }
      ],
      "source": [
        "!mlflow ui"
      ]
    },
    {
      "cell_type": "markdown",
      "metadata": {
        "id": "HdCPrjN69VnS"
      },
      "source": [
        "# On va faire la faire la prediction grâce au code que nous a proposer mlflow"
      ]
    },
    {
      "cell_type": "code",
      "execution_count": null,
      "metadata": {
        "id": "8G2WYKUg_Y6A"
      },
      "outputs": [],
      "source": [
        "import numpy as np"
      ]
    },
    {
      "cell_type": "code",
      "execution_count": null,
      "metadata": {
        "id": "xZjpXAN7-1N_"
      },
      "outputs": [],
      "source": [
        "# nouvelle prediction\n",
        "new_data = np.array([[5.5, 3.8,4.6, 1.9]])\n",
        "new_data"
      ]
    },
    {
      "cell_type": "code",
      "execution_count": null,
      "metadata": {
        "id": "ZN4apbx15xDJ"
      },
      "outputs": [],
      "source": [
        "import mlflow\n",
        "logged_model = 'runs:/5fd20da3507c46aabc11c92b0b2cbc01/model'\n",
        "\n",
        "# Load model as a PyFuncModel.\n",
        "loaded_model = mlflow.pyfunc.load_model(logged_model)\n",
        "\n",
        "# Predict on a Pandas DataFrame.\n",
        "import pandas as pd\n",
        "prediction = loaded_model.predict(new_data)\n",
        "print('votre prediction est :', prediction)"
      ]
    },
    {
      "cell_type": "markdown",
      "metadata": {
        "id": "f4VvTFs-ArsM"
      },
      "source": [
        "On va créer une nouvelle expérience, dans ce cas on utiliser l'arbre de decision"
      ]
    },
    {
      "cell_type": "code",
      "execution_count": null,
      "metadata": {
        "id": "WokCaMmq_VFx"
      },
      "outputs": [],
      "source": [
        "from sklearn.tree import DecisionTreeClassifier\n",
        "mlflow.set_experiment('decision_tree_models')\n",
        "mlflow.sklearn.autolog()"
      ]
    },
    {
      "cell_type": "markdown",
      "metadata": {
        "id": "cLco11rBBtq2"
      },
      "source": [
        "Premier run"
      ]
    },
    {
      "cell_type": "code",
      "execution_count": null,
      "metadata": {
        "id": "Mwtmkt7UBqim"
      },
      "outputs": [],
      "source": [
        "with mlflow.start_run(run_name='decision_tree_defaut'):\n",
        "  dt = DecisionTreeClassifier(random_state=seed)\n",
        "  dt.fit(x_train, y_train)"
      ]
    },
    {
      "cell_type": "markdown",
      "metadata": {
        "id": "i3mEFFokBxnq"
      },
      "source": [
        "Second run"
      ]
    },
    {
      "cell_type": "code",
      "execution_count": null,
      "metadata": {
        "id": "SRJ6JglGBwG_"
      },
      "outputs": [],
      "source": [
        "with mlflow.start_run(run_name='decision_tree_max_depht=3'):\n",
        "  dt2 = DecisionTreeClassifier(random_state=seed, max_depth=3)\n",
        "  dt2.fit(x_train, y_train)"
      ]
    },
    {
      "cell_type": "markdown",
      "metadata": {
        "id": "y64lKIX7EVOf"
      },
      "source": [
        "On va faire une prediction avec celui là aussi pour voir si on aura le même resultat"
      ]
    },
    {
      "cell_type": "code",
      "execution_count": null,
      "metadata": {
        "id": "l3DF0kIOCHFk"
      },
      "outputs": [],
      "source": [
        "import mlflow\n",
        "logged_model = 'runs:/8f8a057737b64978b487f724a495a6a6/model'\n",
        "\n",
        "# Load model as a PyFuncModel.\n",
        "loaded_model = mlflow.pyfunc.load_model(logged_model)\n",
        "\n",
        "# Predict on a Pandas DataFrame.\n",
        "import pandas as pd\n",
        "prediction = loaded_model.predict(new_data)\n",
        "print('Votre prediction est :', prediction)"
      ]
    },
    {
      "cell_type": "code",
      "execution_count": null,
      "metadata": {
        "id": "zLyU0O4NEohN"
      },
      "outputs": [],
      "source": []
    }
  ],
  "metadata": {
    "colab": {
      "provenance": []
    },
    "kernelspec": {
      "display_name": "Python 3",
      "name": "python3"
    },
    "language_info": {
      "name": "python"
    }
  },
  "nbformat": 4,
  "nbformat_minor": 0
}
